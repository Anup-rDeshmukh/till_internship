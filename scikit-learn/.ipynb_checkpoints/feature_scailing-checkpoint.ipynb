{
 "cells": [
  {
   "cell_type": "code",
   "execution_count": 9,
   "id": "31bc0b3d-9648-4ac7-b581-03538490ba41",
   "metadata": {},
   "outputs": [],
   "source": [
    "import pandas as pd \n",
    "\n",
    "df=pd.read_csv('CAR DETAILS FROM CAR DEKHO.csv')\n",
    "df=df[['selling_price','km_driven','year']]"
   ]
  },
  {
   "cell_type": "code",
   "execution_count": 10,
   "id": "a90745a4-1e8a-4bbd-b99e-17b77a0942bb",
   "metadata": {},
   "outputs": [
    {
     "data": {
      "text/html": [
       "<div>\n",
       "<style scoped>\n",
       "    .dataframe tbody tr th:only-of-type {\n",
       "        vertical-align: middle;\n",
       "    }\n",
       "\n",
       "    .dataframe tbody tr th {\n",
       "        vertical-align: top;\n",
       "    }\n",
       "\n",
       "    .dataframe thead th {\n",
       "        text-align: right;\n",
       "    }\n",
       "</style>\n",
       "<table border=\"1\" class=\"dataframe\">\n",
       "  <thead>\n",
       "    <tr style=\"text-align: right;\">\n",
       "      <th></th>\n",
       "      <th>selling_price</th>\n",
       "      <th>km_driven</th>\n",
       "      <th>year</th>\n",
       "    </tr>\n",
       "  </thead>\n",
       "  <tbody>\n",
       "    <tr>\n",
       "      <th>0</th>\n",
       "      <td>60000</td>\n",
       "      <td>70000</td>\n",
       "      <td>2007</td>\n",
       "    </tr>\n",
       "    <tr>\n",
       "      <th>1</th>\n",
       "      <td>135000</td>\n",
       "      <td>50000</td>\n",
       "      <td>2007</td>\n",
       "    </tr>\n",
       "    <tr>\n",
       "      <th>2</th>\n",
       "      <td>600000</td>\n",
       "      <td>100000</td>\n",
       "      <td>2012</td>\n",
       "    </tr>\n",
       "    <tr>\n",
       "      <th>3</th>\n",
       "      <td>250000</td>\n",
       "      <td>46000</td>\n",
       "      <td>2017</td>\n",
       "    </tr>\n",
       "    <tr>\n",
       "      <th>4</th>\n",
       "      <td>450000</td>\n",
       "      <td>141000</td>\n",
       "      <td>2014</td>\n",
       "    </tr>\n",
       "    <tr>\n",
       "      <th>...</th>\n",
       "      <td>...</td>\n",
       "      <td>...</td>\n",
       "      <td>...</td>\n",
       "    </tr>\n",
       "    <tr>\n",
       "      <th>4335</th>\n",
       "      <td>409999</td>\n",
       "      <td>80000</td>\n",
       "      <td>2014</td>\n",
       "    </tr>\n",
       "    <tr>\n",
       "      <th>4336</th>\n",
       "      <td>409999</td>\n",
       "      <td>80000</td>\n",
       "      <td>2014</td>\n",
       "    </tr>\n",
       "    <tr>\n",
       "      <th>4337</th>\n",
       "      <td>110000</td>\n",
       "      <td>83000</td>\n",
       "      <td>2009</td>\n",
       "    </tr>\n",
       "    <tr>\n",
       "      <th>4338</th>\n",
       "      <td>865000</td>\n",
       "      <td>90000</td>\n",
       "      <td>2016</td>\n",
       "    </tr>\n",
       "    <tr>\n",
       "      <th>4339</th>\n",
       "      <td>225000</td>\n",
       "      <td>40000</td>\n",
       "      <td>2016</td>\n",
       "    </tr>\n",
       "  </tbody>\n",
       "</table>\n",
       "<p>4340 rows × 3 columns</p>\n",
       "</div>"
      ],
      "text/plain": [
       "      selling_price  km_driven  year\n",
       "0             60000      70000  2007\n",
       "1            135000      50000  2007\n",
       "2            600000     100000  2012\n",
       "3            250000      46000  2017\n",
       "4            450000     141000  2014\n",
       "...             ...        ...   ...\n",
       "4335         409999      80000  2014\n",
       "4336         409999      80000  2014\n",
       "4337         110000      83000  2009\n",
       "4338         865000      90000  2016\n",
       "4339         225000      40000  2016\n",
       "\n",
       "[4340 rows x 3 columns]"
      ]
     },
     "execution_count": 10,
     "metadata": {},
     "output_type": "execute_result"
    }
   ],
   "source": [
    "df\n"
   ]
  },
  {
   "cell_type": "code",
   "execution_count": 11,
   "id": "5958ae01-2d29-48cb-aa17-a66ca98168b6",
   "metadata": {},
   "outputs": [],
   "source": [
    "from sklearn.preprocessing import MinMaxScaler"
   ]
  },
  {
   "cell_type": "code",
   "execution_count": 12,
   "id": "075b86d8-f752-4fd4-a416-1b8dda5f3629",
   "metadata": {},
   "outputs": [
    {
     "data": {
      "text/plain": [
       "array([[0.0045045 , 0.08678301, 0.53571429],\n",
       "       [0.01295045, 0.06198751, 0.53571429],\n",
       "       [0.06531532, 0.12397626, 0.71428571],\n",
       "       ...,\n",
       "       [0.01013514, 0.10290008, 0.60714286],\n",
       "       [0.09515766, 0.11157851, 0.85714286],\n",
       "       [0.02308559, 0.04958976, 0.85714286]], shape=(4340, 3))"
      ]
     },
     "execution_count": 12,
     "metadata": {},
     "output_type": "execute_result"
    }
   ],
   "source": [
    "scaler=MinMaxScaler()\n",
    "scaled_df=scaler.fit_transform(df)\n",
    "\n",
    "scaled_df"
   ]
  },
  {
   "cell_type": "code",
   "execution_count": 16,
   "id": "a6ec1faa-32ba-48cf-996f-1022451bfb27",
   "metadata": {},
   "outputs": [],
   "source": [
    "scaled_df=pd.DataFrame(data=scaled_df, columns=df.columns)"
   ]
  },
  {
   "cell_type": "code",
   "execution_count": 17,
   "id": "3bb60243-0553-4577-ae77-20168e97f26f",
   "metadata": {},
   "outputs": [
    {
     "data": {
      "text/html": [
       "<div>\n",
       "<style scoped>\n",
       "    .dataframe tbody tr th:only-of-type {\n",
       "        vertical-align: middle;\n",
       "    }\n",
       "\n",
       "    .dataframe tbody tr th {\n",
       "        vertical-align: top;\n",
       "    }\n",
       "\n",
       "    .dataframe thead th {\n",
       "        text-align: right;\n",
       "    }\n",
       "</style>\n",
       "<table border=\"1\" class=\"dataframe\">\n",
       "  <thead>\n",
       "    <tr style=\"text-align: right;\">\n",
       "      <th></th>\n",
       "      <th>selling_price</th>\n",
       "      <th>km_driven</th>\n",
       "      <th>year</th>\n",
       "    </tr>\n",
       "  </thead>\n",
       "  <tbody>\n",
       "    <tr>\n",
       "      <th>0</th>\n",
       "      <td>0.004505</td>\n",
       "      <td>0.086783</td>\n",
       "      <td>0.535714</td>\n",
       "    </tr>\n",
       "    <tr>\n",
       "      <th>1</th>\n",
       "      <td>0.012950</td>\n",
       "      <td>0.061988</td>\n",
       "      <td>0.535714</td>\n",
       "    </tr>\n",
       "    <tr>\n",
       "      <th>2</th>\n",
       "      <td>0.065315</td>\n",
       "      <td>0.123976</td>\n",
       "      <td>0.714286</td>\n",
       "    </tr>\n",
       "    <tr>\n",
       "      <th>3</th>\n",
       "      <td>0.025901</td>\n",
       "      <td>0.057028</td>\n",
       "      <td>0.892857</td>\n",
       "    </tr>\n",
       "    <tr>\n",
       "      <th>4</th>\n",
       "      <td>0.048423</td>\n",
       "      <td>0.174807</td>\n",
       "      <td>0.785714</td>\n",
       "    </tr>\n",
       "    <tr>\n",
       "      <th>...</th>\n",
       "      <td>...</td>\n",
       "      <td>...</td>\n",
       "      <td>...</td>\n",
       "    </tr>\n",
       "    <tr>\n",
       "      <th>4335</th>\n",
       "      <td>0.043919</td>\n",
       "      <td>0.099181</td>\n",
       "      <td>0.785714</td>\n",
       "    </tr>\n",
       "    <tr>\n",
       "      <th>4336</th>\n",
       "      <td>0.043919</td>\n",
       "      <td>0.099181</td>\n",
       "      <td>0.785714</td>\n",
       "    </tr>\n",
       "    <tr>\n",
       "      <th>4337</th>\n",
       "      <td>0.010135</td>\n",
       "      <td>0.102900</td>\n",
       "      <td>0.607143</td>\n",
       "    </tr>\n",
       "    <tr>\n",
       "      <th>4338</th>\n",
       "      <td>0.095158</td>\n",
       "      <td>0.111579</td>\n",
       "      <td>0.857143</td>\n",
       "    </tr>\n",
       "    <tr>\n",
       "      <th>4339</th>\n",
       "      <td>0.023086</td>\n",
       "      <td>0.049590</td>\n",
       "      <td>0.857143</td>\n",
       "    </tr>\n",
       "  </tbody>\n",
       "</table>\n",
       "<p>4340 rows × 3 columns</p>\n",
       "</div>"
      ],
      "text/plain": [
       "      selling_price  km_driven      year\n",
       "0          0.004505   0.086783  0.535714\n",
       "1          0.012950   0.061988  0.535714\n",
       "2          0.065315   0.123976  0.714286\n",
       "3          0.025901   0.057028  0.892857\n",
       "4          0.048423   0.174807  0.785714\n",
       "...             ...        ...       ...\n",
       "4335       0.043919   0.099181  0.785714\n",
       "4336       0.043919   0.099181  0.785714\n",
       "4337       0.010135   0.102900  0.607143\n",
       "4338       0.095158   0.111579  0.857143\n",
       "4339       0.023086   0.049590  0.857143\n",
       "\n",
       "[4340 rows x 3 columns]"
      ]
     },
     "execution_count": 17,
     "metadata": {},
     "output_type": "execute_result"
    }
   ],
   "source": [
    "scaled_df"
   ]
  },
  {
   "cell_type": "code",
   "execution_count": 20,
   "id": "37060eba-32cd-42d0-95b0-64bddc44187c",
   "metadata": {},
   "outputs": [],
   "source": [
    "##perform minmax scaler operation after train test split (its a good practice)"
   ]
  },
  {
   "cell_type": "code",
   "execution_count": 30,
   "id": "63c37dfe-978d-4c39-b113-8d94856f6ddc",
   "metadata": {},
   "outputs": [],
   "source": [
    "from sklearn.model_selection import train_test_split\n",
    "x=df.drop('selling_price', axis=1)\n",
    "y=df['selling_price']\n",
    "x_train,x_test,y_train,y_test=train_test_split(x,y, test_size=0.2,random_state=42)\n",
    "x_train_scaled=scaler.fit_transform(x_train)\n",
    "x_test_scaled=scaler.transform(x_test)"
   ]
  },
  {
   "cell_type": "code",
   "execution_count": 31,
   "id": "6fc50337-a53f-4593-9452-b9fd9c047507",
   "metadata": {},
   "outputs": [
    {
     "data": {
      "text/plain": [
       "array([[0.02479426, 0.89285714],\n",
       "       [0.06198751, 0.92857143],\n",
       "       [0.03099313, 0.75      ],\n",
       "       ...,\n",
       "       [0.06322728, 0.85714286],\n",
       "       [0.09918076, 0.75      ],\n",
       "       [0.09918076, 0.75      ]], shape=(3472, 2))"
      ]
     },
     "execution_count": 31,
     "metadata": {},
     "output_type": "execute_result"
    }
   ],
   "source": [
    "x_train_scaled"
   ]
  },
  {
   "cell_type": "code",
   "execution_count": 32,
   "id": "430bea16-55c5-4da5-867a-f459b2655a8b",
   "metadata": {},
   "outputs": [
    {
     "data": {
      "text/plain": [
       "array([[0.09918076, 0.64285714],\n",
       "       [0.03347268, 0.96428571],\n",
       "       [0.05172589, 0.57142857],\n",
       "       ...,\n",
       "       [0.04958976, 0.67857143],\n",
       "       [0.0080325 , 0.89285714],\n",
       "       [0.03719201, 0.96428571]], shape=(868, 2))"
      ]
     },
     "execution_count": 32,
     "metadata": {},
     "output_type": "execute_result"
    }
   ],
   "source": [
    "x_test_scaled"
   ]
  },
  {
   "cell_type": "code",
   "execution_count": null,
   "id": "d0c7ea21-f012-423a-ac26-fde8a9e3c645",
   "metadata": {},
   "outputs": [],
   "source": []
  },
  {
   "cell_type": "code",
   "execution_count": null,
   "id": "cc39f221-34ba-4864-b7e0-f55e77d6eb0e",
   "metadata": {},
   "outputs": [],
   "source": []
  },
  {
   "cell_type": "code",
   "execution_count": null,
   "id": "af2b00f2-e065-497c-9f33-ef59dbac2663",
   "metadata": {},
   "outputs": [],
   "source": []
  }
 ],
 "metadata": {
  "kernelspec": {
   "display_name": "Python 3 (ipykernel)",
   "language": "python",
   "name": "python3"
  },
  "language_info": {
   "codemirror_mode": {
    "name": "ipython",
    "version": 3
   },
   "file_extension": ".py",
   "mimetype": "text/x-python",
   "name": "python",
   "nbconvert_exporter": "python",
   "pygments_lexer": "ipython3",
   "version": "3.11.5"
  }
 },
 "nbformat": 4,
 "nbformat_minor": 5
}
