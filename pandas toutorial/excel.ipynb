{
 "cells": [
  {
   "cell_type": "code",
   "execution_count": 2,
   "id": "076cf86c-f213-4d91-994a-b07ee021cb2f",
   "metadata": {},
   "outputs": [],
   "source": [
    "import pandas as pd\n",
    "df_stocks=pd.DataFrame({\n",
    "    'tickers':[\"google\",\"microsoft\",\"discord\"],\n",
    "    'pricce':[\"324\",\"353\",\"676543\"],\n",
    "    'pe':[\"wer\",\"fg\",\"3432\"],\n",
    "})\n",
    "df_weather=pd.DataFrame({\n",
    "    'day':[\"3456\",\"5432\",\"4543\"],\n",
    "    'temp':[\"234\",\"23\",\"123\"],\n",
    "    'event':[\"rain\",\"sunny\",\"cloud\"]\n",
    "})"
   ]
  },
  {
   "cell_type": "code",
   "execution_count": 5,
   "id": "859e225a-619c-4775-9a8b-1ebbe27fef9c",
   "metadata": {},
   "outputs": [],
   "source": [
    "with pd.ExcelWriter(\"stocks_weather.xlsx\") as writer:\n",
    "    df_stocks.to_excel(writer,sheet_name=\"stocks\")\n",
    "    df_weather.to_excel(writer,sheet_name=\"weather\")"
   ]
  },
  {
   "cell_type": "code",
   "execution_count": null,
   "id": "22804ec2-09e0-46fb-96fb-7ae2c84ad1f6",
   "metadata": {},
   "outputs": [],
   "source": []
  },
  {
   "cell_type": "code",
   "execution_count": null,
   "id": "692e56e6-5eab-40e5-b9f1-7d65b434f9df",
   "metadata": {},
   "outputs": [],
   "source": []
  }
 ],
 "metadata": {
  "kernelspec": {
   "display_name": "Python 3 (ipykernel)",
   "language": "python",
   "name": "python3"
  },
  "language_info": {
   "codemirror_mode": {
    "name": "ipython",
    "version": 3
   },
   "file_extension": ".py",
   "mimetype": "text/x-python",
   "name": "python",
   "nbconvert_exporter": "python",
   "pygments_lexer": "ipython3",
   "version": "3.11.5"
  }
 },
 "nbformat": 4,
 "nbformat_minor": 5
}
